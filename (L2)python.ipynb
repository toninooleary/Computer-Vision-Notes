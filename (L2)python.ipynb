{
 "cells": [
  {
   "cell_type": "markdown",
   "metadata": {},
   "source": [
    "# Python in Computer Vision\n",
    "---\n",
    "\n",
    "* Loops can be very slow in python. This is because it is interpreted rather than compiled."
   ]
  },
  {
   "cell_type": "markdown",
   "metadata": {},
   "source": [
    "## Useful packages:\n",
    "\n",
    "* **numpy**: Basic numerical and linear algebra functionality\n",
    "* **scipy**: scientific libraries\n",
    "* **matplotlib**: For data plotting\n",
    "* **opencv**: computer vision library\n",
    "* **scikit-learn**: for some standard implementations of ML models\n",
    "* deep learning packages like **TensorFlow** or **pyTorch**\n",
    "\n"
   ]
  },
  {
   "cell_type": "markdown",
   "metadata": {},
   "source": [
    "## Structures re-cap\n",
    "\n",
    "Lists <code>a = [1,2]</code> mutable(changeable) containers indexed with integers\n",
    "\n",
    "Tuple <code>a = [1,2]</code> immutable(can't change) containers indexed with integers\n",
    "\n",
    "Negative indicies refer to the back of the array <code>a[-1] == a[2]</code>\n",
    "\n",
    "Reverse a list/tuple by <code>a[ : :-1]</code>\n",
    "\n",
    "Dictionaries store items with keys and values <code>a = {\"first\": 1, \"second\", 2}</code>\n",
    "* index by passing in a key <code>a[key]</code>\n",
    "\n",
    "### useful things\n",
    "\n",
    "* iterators and enumerate\n",
    "* zip\n",
    "* asserts\n",
    "* decorators"
   ]
  },
  {
   "cell_type": "code",
   "execution_count": null,
   "metadata": {},
   "outputs": [],
   "source": []
  }
 ],
 "metadata": {
  "kernelspec": {
   "display_name": "Python 3",
   "language": "python",
   "name": "python3"
  },
  "language_info": {
   "codemirror_mode": {
    "name": "ipython",
    "version": 3
   },
   "file_extension": ".py",
   "mimetype": "text/x-python",
   "name": "python",
   "nbconvert_exporter": "python",
   "pygments_lexer": "ipython3",
   "version": "3.7.4"
  }
 },
 "nbformat": 4,
 "nbformat_minor": 2
}
