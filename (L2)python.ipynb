{
 "cells": [
  {
   "cell_type": "markdown",
   "metadata": {},
   "source": [
    "# Python in Computer Vision\n",
    "---"
   ]
  },
  {
   "cell_type": "markdown",
   "metadata": {},
   "source": [
    "## Useful packages:\n",
    "\n",
    "* **numpy**: Basic numerical and linear algebra functionality\n",
    "* **scipy**: scientific libraries\n",
    "* **matplotlib**: For data plotting\n",
    "* **opencv**: computer vision library\n",
    "* **scikit-learn**: for some standard implementations of ML models\n",
    "* deep learning packages like **TensorFlow** or **pyTorch**\n",
    "\n"
   ]
  },
  {
   "cell_type": "markdown",
   "metadata": {},
   "source": [
    "## Numpy - why its a good package for computer vision adn machine learning\n",
    "\n",
    "* Loops can be very slow in python. This is because it is interpreted rather than compiled. \n",
    "\n",
    "* Therefore, numpy is a good alternate for using loops"
   ]
  },
  {
   "cell_type": "markdown",
   "metadata": {},
   "source": [
    "## Structures re-cap:\n",
    "\n",
    "Lists `a = [1,2]` mutable(changeable) containers indexed with integers\n",
    "\n",
    "Tuple `a = [1,2]` immutable(can't change) containers indexed with integers\n",
    "\n",
    "Negative indicies refer to the back of the array `a[-1] == a[2]`\n",
    "\n",
    "Reverse a list/tuple by `a[ : :-1]`\n",
    "\n",
    "Dictionaries store items with keys and values `a = {\"first\": 1, \"second\", 2}`\n",
    "* index by passing in a key `a[key]`\n",
    "* Or by using `.get()` (will return none if does't exist)\n",
    "\n",
    "### Useful things:\n",
    "\n",
    "* iterators and enumerate\n",
    "* zip (concatenates two lists)\n",
    "* asserts\n",
    "* decorators"
   ]
  },
  {
   "cell_type": "markdown",
   "metadata": {},
   "source": [
    "### Numpy arrays:\n",
    "\n",
    "`np.array([0.0, 1.0, 2.0], dtype = np.float32)`\n",
    "\n",
    "`np.ones([10, 6, 3], dtype = np.int)`\n",
    "\n",
    "`np.random.randn(10, 6, 3)`"
   ]
  },
  {
   "cell_type": "markdown",
   "metadata": {},
   "source": [
    "### Operations on arrays:\n",
    "\n",
    "* `A = np.array(...)`\n",
    "\n",
    "Multiply the array contents:\n",
    "\n",
    "* `A *= 2.0`\n",
    "\n",
    "Return a new array that is `A * 2`:\n",
    "* `B = A * 2`\n",
    "\n",
    "Return the shape of the array as a tuple:\n",
    "* `A.shape`\n",
    "\n",
    "Averaging:\n",
    "* `np.mean(A, axis=0, keepdims=True)`\n",
    "* 'Axis' refers to the position in the 'shape'(matrix)\n",
    "\n",
    "square:\n",
    "`A * A` is the same as `np.square(A)`\n",
    "\n",
    "Broadcasting (performing operations on arrrays of different sizes):\n",
    "* If the matrix is the wrong shape it will extend it so it is the correct shape.\n",
    "* `A - np.mean(A, axis=1, keepdims=True)`\n"
   ]
  },
  {
   "cell_type": "markdown",
   "metadata": {},
   "source": [
    "### Slicing array:\n",
    "\n",
    "* `A[0::2,:,:]`\n",
    "    * 0 is where you start. 2 is how much its incremented. Esentially it chooses every other row.\n",
    "    * `A[0::2,:,:] *= 2.0` multiplies every other rows' values by 2.0 \n",
    "\n",
    "\n",
    "You can revers a particular dimension like:\n",
    "* `A[:,:,::-1]`\n"
   ]
  },
  {
   "cell_type": "markdown",
   "metadata": {},
   "source": [
    "### Efficiency:\n",
    "\n",
    "Loops are very slow in python, that's why numpy is a good alternative"
   ]
  },
  {
   "cell_type": "markdown",
   "metadata": {},
   "source": [
    "### Representing images:\n",
    "Images will be represented as matrices\n",
    "\n",
    "We will use matplotlib!\n",
    "\n",
    "`from matplotlib import pyplot as plt\n",
    "plt.imshow(img)\n",
    "plt.show()`\n",
    "\n",
    "![Picture](./pictures/imshow.PNG \"Circled images identical without context\")"
   ]
  },
  {
   "cell_type": "markdown",
   "metadata": {},
   "source": [
    "### colour channels:\n",
    "\n",
    "The third dimension in our image matrix are the colour channels.\n",
    "\n",
    "![Picture](./pictures/rgb.PNG \"Circled images identical without context\")"
   ]
  },
  {
   "cell_type": "markdown",
   "metadata": {},
   "source": [
    "### Reducing resolution (Down sampling an image):\n",
    "\n",
    "`img[::2,::2,:]`\n",
    "* The first two indexes of the matrix represent the height and width\n",
    "* Therefore, this code will divide the images' resolution by 2"
   ]
  },
  {
   "cell_type": "markdown",
   "metadata": {},
   "source": [
    "### Crop image:\n",
    "\n",
    "`img[50:-50:,50:-50:,:]`\n",
    "* Crops the center of the image\n",
    "* This misses out 50 pixels from the left, right, top and bottom, whilst keeping the resolution the same.\n"
   ]
  },
  {
   "cell_type": "markdown",
   "metadata": {},
   "source": [
    "## Re-sampling onto different pixel grids\n",
    "Used to change resolution of an image\n",
    "\n",
    "Requires Interpolation (interpolation is the line between two points):\n",
    "* nearest neigbour (sharp edges) pick the nearest neighbour pixel when resampling\n",
    "* bilinear (smoothed edges)\n",
    "* Area averaging?\n",
    "* Cubic Spline\n",
    "\n",
    "![Picture](./pictures/nearestn_bilinear.png \"Nearest Neighbour vs Bilinear\")\n",
    "\n",
    "essentially it is the connection between each pixel.\n"
   ]
  },
  {
   "cell_type": "markdown",
   "metadata": {},
   "source": [
    "## Bilinear Interpolation:\n",
    "    "
   ]
  },
  {
   "cell_type": "markdown",
   "metadata": {},
   "source": [
    "* Bilinear Interpolation is linear interpolating first in one direction and back in the other direction."
   ]
  },
  {
   "cell_type": "markdown",
   "metadata": {},
   "source": [
    "## Geometric Transformation:\n",
    "\n",
    "* This is useful for changing your data set so they are all in the same coordinate space.\n",
    "\n",
    "* With a face detection system you might want to crop an image just to show the face and rotate it in so that all of the chins line up.\n",
    "\n",
    "* Its good as a preprocessing step."
   ]
  },
  {
   "cell_type": "markdown",
   "metadata": {},
   "source": [
    "## Bayer Filter:\n",
    "* How data is collected from your camera.\n",
    "* It is often called raw format.\n",
    "\n",
    "* The camera will has an array of filters (filters = photo-sensors). This actual array is called its \"raw format\".\n",
    "\n",
    "![diagram](./pictures/bayer_filter.PNG \"The green, blue, and red fiters on a bayer filter\")\n",
    "\n",
    "* The layout of the photo-sensors is normally two greens to 1 blue and 1 red per square of sensors in the array of sensors.\n",
    "\n",
    "![diagram](./pictures/bayer_filter_layout.png \"The arrangement of a square of filters.\")\n",
    "\n",
    "* This is because our eyes detect green better than red and blue. It makes the image look sharper to us.\n",
    "\n",
    "\n",
    "* If you have an arangement of picels that are supposed to be blue. You will interpolate between the two closest blue photosensors (picking a blue value that is half way between the two blue photo-sensors)\n",
    "![diagram](./pictures/bayer_filter_interpolation.png \"The arrangement of a square of filters.\")"
   ]
  },
  {
   "cell_type": "markdown",
   "metadata": {},
   "source": [
    "## Demosaicing\n",
    "\n",
    "* The process of converting an image from \"raw-format\".\n",
    "\n",
    "* The simplist method to do this is bilinear interpolation as described above"
   ]
  },
  {
   "cell_type": "markdown",
   "metadata": {},
   "source": [
    "## Processing pipeline\n",
    "\n",
    "* The long process before you get your final image.\n",
    "\n",
    "    * Smoothing, noise reduction\n",
    "    * white balance (colousr that are white appear white in the image)"
   ]
  }
 ],
 "metadata": {
  "kernelspec": {
   "display_name": "Python 3",
   "language": "python",
   "name": "python3"
  },
  "language_info": {
   "codemirror_mode": {
    "name": "ipython",
    "version": 3
   },
   "file_extension": ".py",
   "mimetype": "text/x-python",
   "name": "python",
   "nbconvert_exporter": "python",
   "pygments_lexer": "ipython3",
   "version": "3.7.4"
  }
 },
 "nbformat": 4,
 "nbformat_minor": 2
}