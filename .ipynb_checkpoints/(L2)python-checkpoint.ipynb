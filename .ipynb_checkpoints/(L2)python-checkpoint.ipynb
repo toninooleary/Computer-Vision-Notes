{
 "cells": [
  {
   "cell_type": "markdown",
   "metadata": {},
   "source": [
    "# Python in Computer Vision\n",
    "---\n",
    "\n",
    "* Loops can be very slow in python. This is because it is interpreted rather than compiled."
   ]
  },
  {
   "cell_type": "markdown",
   "metadata": {},
   "source": [
    "## Useful packages:\n",
    "\n",
    "* **numpy**: Basic numerical and linear algebra functionality\n",
    "* **scipy**: scientific libraries\n",
    "* **matplotlib**: For data plotting\n",
    "* **opencv**: computer vision library\n",
    "* **scikit-learn**: for some standard implementations of ML models\n",
    "* deep learning packages like **TensorFlow** or **pyTorch**\n",
    "\n"
   ]
  },
  {
   "cell_type": "markdown",
   "metadata": {},
   "source": [
    "## Structures re-cap:\n",
    "\n",
    "Lists `a = [1,2]` mutable(changeable) containers indexed with integers\n",
    "\n",
    "Tuple `a = [1,2]` immutable(can't change) containers indexed with integers\n",
    "\n",
    "Negative indicies refer to the back of the array `a[-1] == a[2]`\n",
    "\n",
    "Reverse a list/tuple by `a[ : :-1]`\n",
    "\n",
    "Dictionaries store items with keys and values `a = {\"first\": 1, \"second\", 2}`\n",
    "* index by passing in a key `a[key]`\n",
    "* Or by using `.get()` (will return none if does't exist)\n",
    "\n",
    "### Useful things:\n",
    "\n",
    "* iterators and enumerate\n",
    "* zip (concatenates two lists)\n",
    "* asserts\n",
    "* decorators"
   ]
  },
  {
   "cell_type": "markdown",
   "metadata": {},
   "source": [
    "### Numpy arrays:\n",
    "\n",
    "`np.array([0.0, 1.0, 2.0], dtype = np.float32)`\n",
    "\n",
    "`np.ones([10, 6, 3], dtype = np.int)`\n",
    "\n",
    "`np.random.randn(10, 6, 3)`"
   ]
  },
  {
   "cell_type": "markdown",
   "metadata": {},
   "source": [
    "### Operations on arrays:\n",
    "\n",
    "* `A = np.array(...)`\n",
    "\n",
    "Multiply the array contents:\n",
    "\n",
    "* `A *= 2.0`\n",
    "\n",
    "Return a new array that is `A * 2`:\n",
    "* `B = A * 2`\n",
    "\n",
    "Return the shape of the array as a tuple:\n",
    "* `A.shape`\n",
    "\n",
    "Averaging:\n",
    "* `np.mean(A, axis=0, keepdims=True)`\n",
    "* 'Axis' refers to the position in the 'shape'(matrix)\n",
    "\n",
    "square:\n",
    "`A * A` is the same as `np.square(A)`\n",
    "\n",
    "Broadcasting (performing operations on arrrays of different sizes):\n",
    "* If the matrix is the wrong shape it will extend it so it is the correct shape.\n",
    "* `A - np.mean(A, axis=1, keepdims=True)`\n"
   ]
  },
  {
   "cell_type": "markdown",
   "metadata": {},
   "source": [
    "### Slicing array:\n",
    "\n",
    "* `A[0::2,:,:]`\n",
    "    * 0 is where you start. 2 is how much its incremented. Esentially it chooses every other row.\n",
    "    * `A[0::2,:,:] *= 2.0` multiplies every other rows' values by 2.0 \n",
    "\n",
    "\n",
    "You can revers a particular dimension like:\n",
    "* `A[:,:,::-1]`\n"
   ]
  },
  {
   "cell_type": "markdown",
   "metadata": {},
   "source": [
    "### Efficiency:\n",
    "\n",
    "Loops are very slow in python, that's why numpy is a good alternative"
   ]
  },
  {
   "cell_type": "markdown",
   "metadata": {},
   "source": [
    "### Representing images:\n",
    "Images will be represented as matrices\n",
    "\n",
    "We will use matplotlib!\n",
    "\n",
    "`from matplotlib import pyplot as plt\n",
    "plt.imshow(img)\n",
    "plt.show()`\n",
    "\n",
    "\n",
    "![Picture](./pictures/imshow.PNG \"Circled images identical without context\")"
   ]
  },
  {
   "cell_type": "markdown",
   "metadata": {},
   "source": [
    "### colour channels:\n",
    "\n",
    "The third dimension in our image matrix are the colour channels.\n",
    "\n",
    "![Picture](./pictures/colour_channel.PNG \"Circled images identical without context\")"
   ]
  },
  {
   "cell_type": "markdown",
   "metadata": {},
   "source": [
    "### Reducing resolution (Down sampling an image):\n",
    "\n",
    "`img[::2,::2,:]`\n",
    "* The first two indexes of the matrix represent the height and width\n",
    "* Therefore, this code will divide the images' resolution by 2"
   ]
  },
  {
   "cell_type": "markdown",
   "metadata": {},
   "source": [
    "### Crop image:\n",
    "\n",
    "`img[50:-50:,50:-50:,:]`\n",
    "* This misses out 50 pixels from the left, right, top and bottom, whilst keeping the resolution the same.\n"
   ]
  },
  {
   "cell_type": "code",
   "execution_count": null,
   "metadata": {},
   "outputs": [],
   "source": []
  }
 ],
 "metadata": {
  "kernelspec": {
   "display_name": "Python 3",
   "language": "python",
   "name": "python3"
  },
  "language_info": {
   "codemirror_mode": {
    "name": "ipython",
    "version": 3
   },
   "file_extension": ".py",
   "mimetype": "text/x-python",
   "name": "python",
   "nbconvert_exporter": "python",
   "pygments_lexer": "ipython3",
   "version": "3.7.4"
  }
 },
 "nbformat": 4,
 "nbformat_minor": 2
}
